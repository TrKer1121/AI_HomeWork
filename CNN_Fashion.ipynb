{
  "nbformat": 4,
  "nbformat_minor": 0,
  "metadata": {
    "colab": {
      "name": "CNN_Fashion.ipynb",
      "provenance": [],
      "authorship_tag": "ABX9TyNo4/AuWvkqCFAuwCy0FkRP",
      "include_colab_link": true
    },
    "kernelspec": {
      "name": "python3",
      "display_name": "Python 3"
    },
    "language_info": {
      "name": "python"
    }
  },
  "cells": [
    {
      "cell_type": "markdown",
      "metadata": {
        "id": "view-in-github",
        "colab_type": "text"
      },
      "source": [
        "<a href=\"https://colab.research.google.com/github/TrKer1121/AI_HomeWork/blob/main/CNN_Fashion.ipynb\" target=\"_parent\"><img src=\"https://colab.research.google.com/assets/colab-badge.svg\" alt=\"Open In Colab\"/></a>"
      ]
    },
    {
      "cell_type": "code",
      "execution_count": 2,
      "metadata": {
        "id": "8vIxPitNr87K"
      },
      "outputs": [],
      "source": [
        "#Import các thư viện\n",
        "import matplotlib.pyplot as plt\n",
        "import numpy as np\n",
        "import keras\n",
        "import tensorflow as tf\n",
        "import pandas as pd\n",
        "import cv2\n",
        "import pickle\n",
        "\n",
        "from keras.models import Sequential\n",
        "from keras.layers import Dense, Activation, Dropout, BatchNormalization,  Dropout, Flatten, Conv2D, MaxPooling2D\n",
        "from sklearn.linear_model import Perceptron\n",
        "from keras.utils import np_utils\n",
        "from sklearn.model_selection import train_test_split\n",
        "from sklearn.metrics import accuracy_score\n",
        "from sklearn.preprocessing import StandardScaler\n",
        "from tensorflow.keras.optimizers import Adam\n",
        "from sklearn.utils import shuffle\n",
        "from keras.preprocessing.image import load_img,img_to_array\n",
        "from tensorflow.keras.optimizers import SGD\n",
        "from tensorflow.keras.utils import to_categorical\n",
        "from tensorflow.keras import datasets\n",
        "from keras.models import load_model\n",
        "from keras.datasets import mnist, fashion_mnist, cifar10, cifar100"
      ]
    },
    {
      "cell_type": "code",
      "source": [
        "#Load và phân chia Data\n",
        "(x_train,y_train),(x_test,y_test) = datasets.fashion_mnist.load_data()\n",
        "x_train = x_train.astype('float32')\n",
        "x_test = x_test.astype('float32')\n",
        "x_train/=255\n",
        "x_test/=255\n",
        "y_train = np_utils.to_categorical(y_train,10)\n",
        "y_test = np_utils.to_categorical(y_test,10)"
      ],
      "metadata": {
        "colab": {
          "base_uri": "https://localhost:8080/"
        },
        "id": "ULMXqSWKsITv",
        "outputId": "926fc919-1499-43a2-e06a-0326035e063c"
      },
      "execution_count": 3,
      "outputs": [
        {
          "output_type": "stream",
          "name": "stdout",
          "text": [
            "Downloading data from https://storage.googleapis.com/tensorflow/tf-keras-datasets/train-labels-idx1-ubyte.gz\n",
            "32768/29515 [=================================] - 0s 0us/step\n",
            "40960/29515 [=========================================] - 0s 0us/step\n",
            "Downloading data from https://storage.googleapis.com/tensorflow/tf-keras-datasets/train-images-idx3-ubyte.gz\n",
            "26427392/26421880 [==============================] - 0s 0us/step\n",
            "26435584/26421880 [==============================] - 0s 0us/step\n",
            "Downloading data from https://storage.googleapis.com/tensorflow/tf-keras-datasets/t10k-labels-idx1-ubyte.gz\n",
            "16384/5148 [===============================================================================================] - 0s 0us/step\n",
            "Downloading data from https://storage.googleapis.com/tensorflow/tf-keras-datasets/t10k-images-idx3-ubyte.gz\n",
            "4423680/4422102 [==============================] - 0s 0us/step\n",
            "4431872/4422102 [==============================] - 0s 0us/step\n"
          ]
        }
      ]
    },
    {
      "cell_type": "code",
      "source": [
        "#Tạo model\n",
        "model = Sequential()\n",
        "model.add(Conv2D(32,(3,3), activation = 'relu', kernel_initializer = 'he_uniform', padding = 'same', input_shape=(28,28,1)))\n",
        "model.add(Conv2D(32,(3,3), activation = 'relu', kernel_initializer = 'he_uniform', padding = 'same'))\n",
        "model.add(MaxPooling2D((2,2)))\n",
        "model.add(Dropout(0.25))\n",
        "\n",
        "model.add(Conv2D(64,(3,3), activation = 'relu', kernel_initializer = 'he_uniform', padding = 'same'))\n",
        "model.add(MaxPooling2D((2,2)))\n",
        "model.add(Dropout(0.5))\n",
        "\n",
        "model.add(Conv2D(64,(3,3), activation = 'relu', kernel_initializer = 'he_uniform', padding = 'same'))\n",
        "model.add(MaxPooling2D((2,2)))\n",
        "model.add(Dropout(0.5))\n",
        "\n",
        "model.add(Flatten())\n",
        "model.add(Dense(32, activation = 'relu'))\n",
        "model.add(Dropout(0.5))\n",
        "model.add(Dense(10,activation='softmax'))\n",
        "\n",
        "model.summary()"
      ],
      "metadata": {
        "colab": {
          "base_uri": "https://localhost:8080/"
        },
        "id": "BcA6QTnYsQWU",
        "outputId": "59a69d06-cc66-40e4-dd20-0e0f4b9f9bbb"
      },
      "execution_count": 4,
      "outputs": [
        {
          "output_type": "stream",
          "name": "stdout",
          "text": [
            "Model: \"sequential\"\n",
            "_________________________________________________________________\n",
            " Layer (type)                Output Shape              Param #   \n",
            "=================================================================\n",
            " conv2d (Conv2D)             (None, 28, 28, 32)        320       \n",
            "                                                                 \n",
            " conv2d_1 (Conv2D)           (None, 28, 28, 32)        9248      \n",
            "                                                                 \n",
            " max_pooling2d (MaxPooling2D  (None, 14, 14, 32)       0         \n",
            " )                                                               \n",
            "                                                                 \n",
            " dropout (Dropout)           (None, 14, 14, 32)        0         \n",
            "                                                                 \n",
            " conv2d_2 (Conv2D)           (None, 14, 14, 64)        18496     \n",
            "                                                                 \n",
            " max_pooling2d_1 (MaxPooling  (None, 7, 7, 64)         0         \n",
            " 2D)                                                             \n",
            "                                                                 \n",
            " dropout_1 (Dropout)         (None, 7, 7, 64)          0         \n",
            "                                                                 \n",
            " conv2d_3 (Conv2D)           (None, 7, 7, 64)          36928     \n",
            "                                                                 \n",
            " max_pooling2d_2 (MaxPooling  (None, 3, 3, 64)         0         \n",
            " 2D)                                                             \n",
            "                                                                 \n",
            " dropout_2 (Dropout)         (None, 3, 3, 64)          0         \n",
            "                                                                 \n",
            " flatten (Flatten)           (None, 576)               0         \n",
            "                                                                 \n",
            " dense (Dense)               (None, 32)                18464     \n",
            "                                                                 \n",
            " dropout_3 (Dropout)         (None, 32)                0         \n",
            "                                                                 \n",
            " dense_1 (Dense)             (None, 10)                330       \n",
            "                                                                 \n",
            "=================================================================\n",
            "Total params: 83,786\n",
            "Trainable params: 83,786\n",
            "Non-trainable params: 0\n",
            "_________________________________________________________________\n"
          ]
        }
      ]
    },
    {
      "cell_type": "code",
      "source": [
        "#Training\n",
        "model.compile(optimizer='adam',loss='categorical_crossentropy',metrics=['accuracy'])\n",
        "history = model.fit(x_train,y_train,batch_size = 128, epochs = 20,verbose = 1, validation_data =(x_test,y_test))"
      ],
      "metadata": {
        "colab": {
          "base_uri": "https://localhost:8080/"
        },
        "id": "UJ930OrdsV74",
        "outputId": "6ad7248b-8498-432a-f07c-98af9ff9229f"
      },
      "execution_count": 5,
      "outputs": [
        {
          "output_type": "stream",
          "name": "stdout",
          "text": [
            "Epoch 1/20\n",
            "469/469 [==============================] - 164s 347ms/step - loss: 1.4295 - accuracy: 0.4514 - val_loss: 0.6332 - val_accuracy: 0.7649\n",
            "Epoch 2/20\n",
            "469/469 [==============================] - 162s 345ms/step - loss: 0.7800 - accuracy: 0.7087 - val_loss: 0.5049 - val_accuracy: 0.8064\n",
            "Epoch 3/20\n",
            "469/469 [==============================] - 161s 344ms/step - loss: 0.6543 - accuracy: 0.7568 - val_loss: 0.4529 - val_accuracy: 0.8282\n",
            "Epoch 4/20\n",
            "469/469 [==============================] - 161s 344ms/step - loss: 0.5882 - accuracy: 0.7826 - val_loss: 0.4052 - val_accuracy: 0.8498\n",
            "Epoch 5/20\n",
            "469/469 [==============================] - 161s 343ms/step - loss: 0.5538 - accuracy: 0.7975 - val_loss: 0.3918 - val_accuracy: 0.8594\n",
            "Epoch 6/20\n",
            "469/469 [==============================] - 161s 343ms/step - loss: 0.5244 - accuracy: 0.8092 - val_loss: 0.3631 - val_accuracy: 0.8655\n",
            "Epoch 7/20\n",
            "469/469 [==============================] - 161s 343ms/step - loss: 0.5017 - accuracy: 0.8190 - val_loss: 0.3578 - val_accuracy: 0.8670\n",
            "Epoch 8/20\n",
            "469/469 [==============================] - 161s 343ms/step - loss: 0.4784 - accuracy: 0.8269 - val_loss: 0.3416 - val_accuracy: 0.8678\n",
            "Epoch 9/20\n",
            "469/469 [==============================] - 161s 344ms/step - loss: 0.4637 - accuracy: 0.8331 - val_loss: 0.3166 - val_accuracy: 0.8844\n",
            "Epoch 10/20\n",
            "469/469 [==============================] - 161s 344ms/step - loss: 0.4505 - accuracy: 0.8395 - val_loss: 0.3071 - val_accuracy: 0.8886\n",
            "Epoch 11/20\n",
            "469/469 [==============================] - 162s 345ms/step - loss: 0.4356 - accuracy: 0.8429 - val_loss: 0.3017 - val_accuracy: 0.8879\n",
            "Epoch 12/20\n",
            "469/469 [==============================] - 161s 344ms/step - loss: 0.4318 - accuracy: 0.8452 - val_loss: 0.2975 - val_accuracy: 0.8917\n",
            "Epoch 13/20\n",
            "469/469 [==============================] - 161s 344ms/step - loss: 0.4174 - accuracy: 0.8512 - val_loss: 0.2846 - val_accuracy: 0.8920\n",
            "Epoch 14/20\n",
            "469/469 [==============================] - 161s 343ms/step - loss: 0.4079 - accuracy: 0.8548 - val_loss: 0.2773 - val_accuracy: 0.8973\n",
            "Epoch 15/20\n",
            "469/469 [==============================] - 161s 343ms/step - loss: 0.4043 - accuracy: 0.8558 - val_loss: 0.2877 - val_accuracy: 0.8949\n",
            "Epoch 16/20\n",
            "469/469 [==============================] - 160s 342ms/step - loss: 0.3967 - accuracy: 0.8602 - val_loss: 0.2772 - val_accuracy: 0.9005\n",
            "Epoch 17/20\n",
            "469/469 [==============================] - 161s 343ms/step - loss: 0.3917 - accuracy: 0.8616 - val_loss: 0.2649 - val_accuracy: 0.9033\n",
            "Epoch 18/20\n",
            "469/469 [==============================] - 161s 344ms/step - loss: 0.3832 - accuracy: 0.8650 - val_loss: 0.2676 - val_accuracy: 0.9030\n",
            "Epoch 19/20\n",
            "469/469 [==============================] - 161s 343ms/step - loss: 0.3806 - accuracy: 0.8640 - val_loss: 0.2583 - val_accuracy: 0.9060\n",
            "Epoch 20/20\n",
            "469/469 [==============================] - 161s 342ms/step - loss: 0.3751 - accuracy: 0.8688 - val_loss: 0.2552 - val_accuracy: 0.9059\n"
          ]
        }
      ]
    },
    {
      "cell_type": "code",
      "source": [
        "#đánh giá\n",
        "plt.plot(history.history['accuracy'])\n",
        "plt.plot(history.history['val_accuracy'])\n",
        "plt.ylabel('accuracy')\n",
        "plt.xlabel('epochs')\n",
        "plt.legend(['train','Validation'])\n",
        "plt.show()"
      ],
      "metadata": {
        "colab": {
          "base_uri": "https://localhost:8080/",
          "height": 279
        },
        "id": "eCftoBVT4xjS",
        "outputId": "64e239f9-9a24-4fb9-fa6e-5dc5a0c6723f"
      },
      "execution_count": 8,
      "outputs": [
        {
          "output_type": "display_data",
          "data": {
            "text/plain": [
              "<Figure size 432x288 with 1 Axes>"
            ],
            "image/png": "[encoded data removed]"
          },
          "metadata": {
            "needs_background": "light"
          }
        }
      ]
    },
    {
      "cell_type": "code",
      "source": [
        "model.save('CNN_Fashion.h5')"
      ],
      "metadata": {
        "id": "HT3He72i5U01"
      },
      "execution_count": 10,
      "outputs": []
    }
  ]
}