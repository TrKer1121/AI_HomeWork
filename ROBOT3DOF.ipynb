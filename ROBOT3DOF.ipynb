{
  "nbformat": 4,
  "nbformat_minor": 0,
  "metadata": {
    "colab": {
      "name": "ROBOT3DOF.ipynb",
      "provenance": [],
      "collapsed_sections": [],
      "authorship_tag": "ABX9TyNdDv1JCfeWEYq3vT5fSLC/",
      "include_colab_link": true
    },
    "kernelspec": {
      "name": "python3",
      "display_name": "Python 3"
    },
    "language_info": {
      "name": "python"
    }
  },
  "cells": [
    {
      "cell_type": "markdown",
      "metadata": {
        "id": "view-in-github",
        "colab_type": "text"
      },
      "source": [
        "<a href=\"https://colab.research.google.com/github/TrKer1121/AI_HomeWork/blob/main/ROBOT3DOF.ipynb\" target=\"_parent\"><img src=\"https://colab.research.google.com/assets/colab-badge.svg\" alt=\"Open In Colab\"/></a>"
      ]
    },
    {
      "cell_type": "code",
      "execution_count": 2,
      "metadata": {
        "id": "thybPyOEzROS"
      },
      "outputs": [],
      "source": [
        "#Import các thư viện\n",
        "import matplotlib.pyplot as plt\n",
        "import numpy as np\n",
        "import keras\n",
        "import tensorflow as tf\n",
        "import pandas as pd\n",
        "\n",
        "from keras.models import Sequential\n",
        "from keras.layers import Dense, Activation, Dropout, BatchNormalization\n",
        "from sklearn.linear_model import Perceptron\n",
        "from sklearn.model_selection import train_test_split\n",
        "from sklearn.metrics import accuracy_score\n",
        "from tensorflow.keras.optimizers import Adam"
      ]
    },
    {
      "cell_type": "code",
      "source": [
        "#tạo dữ liệu\n",
        "from re import U\n",
        "import matplotlib.pyplot as plt\n",
        "import math\n",
        "import csv\n",
        "import numpy as np\n",
        "u=[]\n",
        "z=[]\n",
        "for i in range(0,121,3):\n",
        "  for j in range(0,91,3):\n",
        "    for k in range (0,91,3):\n",
        "      x=50*math.cos(math.radians(i))+40*math.cos(math.radians(i+j))+30*math.cos(math.radians(i+j+k))\n",
        "      y=50*math.sin(math.radians(i))+40*math.sin(math.radians(i+j))+30*math.sin(math.radians(i+j+k))\n",
        "      t=i+j+k\n",
        "      z.append(np.array((i,j,k,x,y,t)))\n",
        "  u.extend(z)\n"
      ],
      "metadata": {
        "id": "Bqb37iFK0JaV"
      },
      "execution_count": 3,
      "outputs": []
    },
    {
      "cell_type": "code",
      "source": [
        "\n",
        "header = ['anpha', 'beta','delta', 'x', 'y','phi']\n",
        "with open('robot_3dof.csv', 'w', encoding='UTF8', newline='') as f:\n",
        "    writer = csv.writer(f)\n",
        "\n",
        "    # write the header\n",
        "    writer.writerow(header)\n",
        "\n",
        "    # write multiple rows\n",
        "    writer.writerows(u)"
      ],
      "metadata": {
        "id": "64YahGHozfF-"
      },
      "execution_count": 4,
      "outputs": []
    },
    {
      "cell_type": "code",
      "source": [
        "#xử lý dữ liệu\n",
        "data = pd.read_csv('robot_3dof.csv')\n",
        "data.shape\n",
        "numpy_dataset = data.values\n",
        "y=numpy_dataset[:,:3]\n",
        "x=numpy_dataset[:,3:]\n",
        "x_train,x_test,y_train,y_test = train_test_split(x,y,test_size=0.20)\n",
        "print(x_train[0])\n",
        "print(y_train[0])\n",
        "print(\"Original data is:\\n\",x_train)\n",
        "print(\"Shape of data is: \",x_train.shape)\n",
        "print(\"Original data is:\\n\",y_train)\n",
        "print(\"Shape of data is: \",y_train.shape)"
      ],
      "metadata": {
        "colab": {
          "base_uri": "https://localhost:8080/"
        },
        "id": "_ezw_aGB0PLO",
        "outputId": "62b6fead-f849-42e8-8091-e0aafeadcd19"
      },
      "execution_count": 5,
      "outputs": [
        {
          "output_type": "stream",
          "name": "stdout",
          "text": [
            "[-11.45995882  55.74233244 198.        ]\n",
            "[39. 84. 75.]\n",
            "Original data is:\n",
            " [[-11.45995882  55.74233244 198.        ]\n",
            " [ 59.01128673 104.30398509  63.        ]\n",
            " [ 24.83671051  46.01822654 168.        ]\n",
            " ...\n",
            " [ -6.68654506  57.26495223 195.        ]\n",
            " [ 29.20578519  70.16741602 123.        ]\n",
            " [ 99.85264876  60.87680771  54.        ]]\n",
            "Shape of data is:  (661936, 3)\n",
            "Original data is:\n",
            " [[39. 84. 75.]\n",
            " [57.  6.  0.]\n",
            " [ 0. 84. 84.]\n",
            " ...\n",
            " [36. 81. 78.]\n",
            " [ 6. 90. 27.]\n",
            " [24.  0. 30.]]\n",
            "Shape of data is:  (661936, 3)\n"
          ]
        }
      ]
    },
    {
      "cell_type": "code",
      "source": [
        "#tạo và training model\n",
        "model=Sequential()\n",
        "model.add(Dense(128, activation='relu', input_shape = (3,))) \n",
        "model.add(Dense(64, activation='relu'))\n",
        "model.add(Dense(32, activation='relu'))\n",
        "model.add(Dense(16, activation='relu'))\n",
        "#model.add(Dropout(0.1))\n",
        "model.add(Dense(3,  activation='linear'))\n",
        "model.summary()\n",
        "model.compile(loss='mse', optimizer =Adam(), metrics=['acc'])\n",
        "history = model.fit(x_train, y_train, batch_size = 32, epochs = 50, validation_split = 0.2)"
      ],
      "metadata": {
        "colab": {
          "base_uri": "https://localhost:8080/"
        },
        "id": "SGM7j_l70Tfb",
        "outputId": "6c4b16dd-59b7-4ddc-c67e-e110b63eb3ff"
      },
      "execution_count": 6,
      "outputs": [
        {
          "output_type": "stream",
          "name": "stdout",
          "text": [
            "Model: \"sequential\"\n",
            "_________________________________________________________________\n",
            " Layer (type)                Output Shape              Param #   \n",
            "=================================================================\n",
            " dense (Dense)               (None, 128)               512       \n",
            "                                                                 \n",
            " dense_1 (Dense)             (None, 64)                8256      \n",
            "                                                                 \n",
            " dense_2 (Dense)             (None, 32)                2080      \n",
            "                                                                 \n",
            " dense_3 (Dense)             (None, 16)                528       \n",
            "                                                                 \n",
            " dense_4 (Dense)             (None, 3)                 51        \n",
            "                                                                 \n",
            "=================================================================\n",
            "Total params: 11,427\n",
            "Trainable params: 11,427\n",
            "Non-trainable params: 0\n",
            "_________________________________________________________________\n",
            "Epoch 1/50\n",
            "16549/16549 [==============================] - 37s 2ms/step - loss: 177.9813 - acc: 0.7230 - val_loss: 72.3808 - val_acc: 0.8501\n",
            "Epoch 2/50\n",
            "16549/16549 [==============================] - 32s 2ms/step - loss: 17.8534 - acc: 0.9389 - val_loss: 8.0820 - val_acc: 0.9616\n",
            "Epoch 3/50\n",
            "16549/16549 [==============================] - 33s 2ms/step - loss: 13.4687 - acc: 0.9475 - val_loss: 11.1124 - val_acc: 0.9566\n",
            "Epoch 4/50\n",
            "16549/16549 [==============================] - 33s 2ms/step - loss: 11.8952 - acc: 0.9508 - val_loss: 20.9977 - val_acc: 0.9397\n",
            "Epoch 5/50\n",
            "16549/16549 [==============================] - 32s 2ms/step - loss: 10.5398 - acc: 0.9539 - val_loss: 7.5246 - val_acc: 0.9684\n",
            "Epoch 6/50\n",
            "16549/16549 [==============================] - 33s 2ms/step - loss: 9.5751 - acc: 0.9560 - val_loss: 3.9614 - val_acc: 0.9734\n",
            "Epoch 7/50\n",
            "16549/16549 [==============================] - 32s 2ms/step - loss: 8.7458 - acc: 0.9589 - val_loss: 6.6893 - val_acc: 0.9643\n",
            "Epoch 8/50\n",
            "16549/16549 [==============================] - 32s 2ms/step - loss: 8.0301 - acc: 0.9604 - val_loss: 4.5345 - val_acc: 0.9592\n",
            "Epoch 9/50\n",
            "16549/16549 [==============================] - 32s 2ms/step - loss: 7.2088 - acc: 0.9628 - val_loss: 8.7494 - val_acc: 0.9602\n",
            "Epoch 10/50\n",
            "16549/16549 [==============================] - 32s 2ms/step - loss: 6.3894 - acc: 0.9649 - val_loss: 4.7527 - val_acc: 0.9613\n",
            "Epoch 11/50\n",
            "16549/16549 [==============================] - 33s 2ms/step - loss: 5.7746 - acc: 0.9669 - val_loss: 8.0987 - val_acc: 0.9545\n",
            "Epoch 12/50\n",
            "16549/16549 [==============================] - 33s 2ms/step - loss: 5.1100 - acc: 0.9687 - val_loss: 7.4169 - val_acc: 0.9556\n",
            "Epoch 13/50\n",
            "16549/16549 [==============================] - 33s 2ms/step - loss: 4.5014 - acc: 0.9700 - val_loss: 8.2776 - val_acc: 0.9685\n",
            "Epoch 14/50\n",
            "16549/16549 [==============================] - 31s 2ms/step - loss: 4.3865 - acc: 0.9695 - val_loss: 13.7580 - val_acc: 0.9582\n",
            "Epoch 15/50\n",
            "16549/16549 [==============================] - 33s 2ms/step - loss: 4.2023 - acc: 0.9697 - val_loss: 1.8088 - val_acc: 0.9783\n",
            "Epoch 16/50\n",
            "16549/16549 [==============================] - 33s 2ms/step - loss: 4.0358 - acc: 0.9710 - val_loss: 3.5170 - val_acc: 0.9664\n",
            "Epoch 17/50\n",
            "16549/16549 [==============================] - 33s 2ms/step - loss: 3.9689 - acc: 0.9715 - val_loss: 4.2688 - val_acc: 0.9650\n",
            "Epoch 18/50\n",
            "16549/16549 [==============================] - 33s 2ms/step - loss: 3.8480 - acc: 0.9721 - val_loss: 8.7193 - val_acc: 0.9521\n",
            "Epoch 19/50\n",
            "16549/16549 [==============================] - 33s 2ms/step - loss: 3.8260 - acc: 0.9719 - val_loss: 6.6591 - val_acc: 0.9655\n",
            "Epoch 20/50\n",
            "16549/16549 [==============================] - 33s 2ms/step - loss: 3.7042 - acc: 0.9715 - val_loss: 4.8861 - val_acc: 0.9731\n",
            "Epoch 21/50\n",
            "16549/16549 [==============================] - 31s 2ms/step - loss: 3.5796 - acc: 0.9715 - val_loss: 2.0533 - val_acc: 0.9784\n",
            "Epoch 22/50\n",
            "16549/16549 [==============================] - 32s 2ms/step - loss: 3.6323 - acc: 0.9708 - val_loss: 2.4284 - val_acc: 0.9747\n",
            "Epoch 23/50\n",
            "16549/16549 [==============================] - 31s 2ms/step - loss: 3.5407 - acc: 0.9717 - val_loss: 1.9139 - val_acc: 0.9865\n",
            "Epoch 24/50\n",
            "16549/16549 [==============================] - 32s 2ms/step - loss: 3.4450 - acc: 0.9720 - val_loss: 3.3931 - val_acc: 0.9800\n",
            "Epoch 25/50\n",
            "16549/16549 [==============================] - 33s 2ms/step - loss: 3.5129 - acc: 0.9716 - val_loss: 2.8834 - val_acc: 0.9836\n",
            "Epoch 26/50\n",
            "16549/16549 [==============================] - 32s 2ms/step - loss: 3.3879 - acc: 0.9723 - val_loss: 7.4972 - val_acc: 0.9697\n",
            "Epoch 27/50\n",
            "16549/16549 [==============================] - 32s 2ms/step - loss: 3.2767 - acc: 0.9720 - val_loss: 11.6873 - val_acc: 0.9389\n",
            "Epoch 28/50\n",
            "16549/16549 [==============================] - 33s 2ms/step - loss: 3.2945 - acc: 0.9726 - val_loss: 1.9877 - val_acc: 0.9857\n",
            "Epoch 29/50\n",
            "16549/16549 [==============================] - 33s 2ms/step - loss: 3.1992 - acc: 0.9722 - val_loss: 1.6041 - val_acc: 0.9712\n",
            "Epoch 30/50\n",
            "16549/16549 [==============================] - 32s 2ms/step - loss: 3.1185 - acc: 0.9726 - val_loss: 2.9275 - val_acc: 0.9710\n",
            "Epoch 31/50\n",
            "16549/16549 [==============================] - 32s 2ms/step - loss: 3.1075 - acc: 0.9726 - val_loss: 2.4465 - val_acc: 0.9722\n",
            "Epoch 32/50\n",
            "16549/16549 [==============================] - 32s 2ms/step - loss: 3.1344 - acc: 0.9725 - val_loss: 3.5144 - val_acc: 0.9655\n",
            "Epoch 33/50\n",
            "16549/16549 [==============================] - 32s 2ms/step - loss: 3.1521 - acc: 0.9726 - val_loss: 5.8479 - val_acc: 0.9511\n",
            "Epoch 34/50\n",
            "16549/16549 [==============================] - 33s 2ms/step - loss: 3.0326 - acc: 0.9728 - val_loss: 5.2683 - val_acc: 0.9727\n",
            "Epoch 35/50\n",
            "16549/16549 [==============================] - 33s 2ms/step - loss: 2.9744 - acc: 0.9733 - val_loss: 3.5550 - val_acc: 0.9764\n",
            "Epoch 36/50\n",
            "16549/16549 [==============================] - 31s 2ms/step - loss: 3.0371 - acc: 0.9732 - val_loss: 1.8440 - val_acc: 0.9772\n",
            "Epoch 37/50\n",
            "16549/16549 [==============================] - 31s 2ms/step - loss: 2.9420 - acc: 0.9733 - val_loss: 2.8213 - val_acc: 0.9694\n",
            "Epoch 38/50\n",
            "16549/16549 [==============================] - 31s 2ms/step - loss: 2.9090 - acc: 0.9732 - val_loss: 5.4983 - val_acc: 0.9775\n",
            "Epoch 39/50\n",
            "16549/16549 [==============================] - 33s 2ms/step - loss: 2.9591 - acc: 0.9735 - val_loss: 3.1459 - val_acc: 0.9613\n",
            "Epoch 40/50\n",
            "16549/16549 [==============================] - 33s 2ms/step - loss: 2.9267 - acc: 0.9734 - val_loss: 1.2054 - val_acc: 0.9714\n",
            "Epoch 41/50\n",
            "16549/16549 [==============================] - 32s 2ms/step - loss: 2.9618 - acc: 0.9731 - val_loss: 1.1734 - val_acc: 0.9840\n",
            "Epoch 42/50\n",
            "16549/16549 [==============================] - 32s 2ms/step - loss: 2.9088 - acc: 0.9727 - val_loss: 1.5765 - val_acc: 0.9850\n",
            "Epoch 43/50\n",
            "16549/16549 [==============================] - 32s 2ms/step - loss: 2.9156 - acc: 0.9729 - val_loss: 2.6707 - val_acc: 0.9735\n",
            "Epoch 44/50\n",
            "16549/16549 [==============================] - 33s 2ms/step - loss: 2.8359 - acc: 0.9732 - val_loss: 1.5822 - val_acc: 0.9768\n",
            "Epoch 45/50\n",
            "16549/16549 [==============================] - 32s 2ms/step - loss: 2.8012 - acc: 0.9737 - val_loss: 6.4444 - val_acc: 0.9701\n",
            "Epoch 46/50\n",
            "16549/16549 [==============================] - 31s 2ms/step - loss: 2.8187 - acc: 0.9735 - val_loss: 2.3914 - val_acc: 0.9755\n",
            "Epoch 47/50\n",
            "16549/16549 [==============================] - 33s 2ms/step - loss: 2.7689 - acc: 0.9733 - val_loss: 4.1000 - val_acc: 0.9656\n",
            "Epoch 48/50\n",
            "16549/16549 [==============================] - 33s 2ms/step - loss: 2.7823 - acc: 0.9733 - val_loss: 1.4616 - val_acc: 0.9862\n",
            "Epoch 49/50\n",
            "16549/16549 [==============================] - 33s 2ms/step - loss: 2.8028 - acc: 0.9734 - val_loss: 2.0081 - val_acc: 0.9778\n",
            "Epoch 50/50\n",
            "16549/16549 [==============================] - 32s 2ms/step - loss: 2.7706 - acc: 0.9735 - val_loss: 2.2788 - val_acc: 0.9918\n"
          ]
        }
      ]
    },
    {
      "cell_type": "code",
      "source": [
        "#đánh giá và vẽ đồ thị\n",
        "score=model.evaluate(x_test,y_test,verbose=0)\n",
        "print('sai so kiem tra la',score[0])\n",
        "print('do chinh xac kiem tra',score[1])\n",
        "plt.plot(history.history['acc'])\n",
        "plt.plot(history.history['val_acc'])\n",
        "plt.title('model accuracy')\n",
        "plt.ylabel('accuracy')\n",
        "plt.xlabel('epoch')\n",
        "plt.legend(['train','validation'],loc='upper_left')\n",
        "plt.show()"
      ],
      "metadata": {
        "colab": {
          "base_uri": "https://localhost:8080/",
          "height": 610
        },
        "id": "HrB5hm9a7M4E",
        "outputId": "3e0dc6d8-ee0c-4eab-c4b7-218976334855"
      },
      "execution_count": 7,
      "outputs": [
        {
          "output_type": "stream",
          "name": "stdout",
          "text": [
            "sai so kiem tra la 2.2830302715301514\n",
            "do chinh xac kiem tra 0.992017388343811\n"
          ]
        },
        {
          "output_type": "stream",
          "name": "stderr",
          "text": [
            "/usr/local/lib/python3.7/dist-packages/ipykernel_launcher.py:10: MatplotlibDeprecationWarning: Unrecognized location 'upper_left'. Falling back on 'best'; valid locations are\n",
            "\tbest\n",
            "\tupper right\n",
            "\tupper left\n",
            "\tlower left\n",
            "\tlower right\n",
            "\tright\n",
            "\tcenter left\n",
            "\tcenter right\n",
            "\tlower center\n",
            "\tupper center\n",
            "\tcenter\n",
            "This will raise an exception in 3.3.\n",
            "  # Remove the CWD from sys.path while we load stuff.\n"
          ]
        },
        {
          "output_type": "display_data",
          "data": {
            "text/plain": [
              "<Figure size 432x288 with 1 Axes>"
            ],
            "image/png": "[encoded data removed]"
          },
          "metadata": {
            "needs_background": "light"
          }
        }
      ]
    },
    {
      "cell_type": "code",
      "source": [
        "#Kiểm tra lại\n",
        "Px_test_train =   60\n",
        "Py_test_train = 70\n",
        "phi = 45\n",
        "print(Px_test_train,Py_test_train,phi)\n",
        "test = model.predict([[Px_test_train,Py_test_train,phi]])\n",
        "t1 = test[0][0]\n",
        "t2 = test[0][1]\n",
        "t3 = test[0][2]\n",
        "\n",
        "x_1=50*math.cos(math.radians(t1))+40*math.cos(math.radians(t1+t2))+30*math.cos(math.radians(t1+t2+t3))\n",
        "y_1=50*math.sin(math.radians(t1))+40*math.sin(math.radians(t1+t2))+30*math.sin(math.radians(t1+t2+t3))\n",
        "print('x = ',x_1,'y = ',y_1)\n",
        "print(t1,t2,t3)"
      ],
      "metadata": {
        "colab": {
          "base_uri": "https://localhost:8080/"
        },
        "id": "TxvGGvtZ79w3",
        "outputId": "7380c45f-3183-4e1e-a202-966f07301a2f"
      },
      "execution_count": 10,
      "outputs": [
        {
          "output_type": "stream",
          "name": "stdout",
          "text": [
            "60 70 45\n",
            "x =  53.651088087210745 y =  75.69587950949233\n",
            "9.609037 89.96914 -31.10547\n"
          ]
        }
      ]
    },
    {
      "cell_type": "code",
      "source": [
        "#save model\n",
        "model.save('Rrobot3dof.h5')"
      ],
      "metadata": {
        "id": "AnmuJA7e7_Vb"
      },
      "execution_count": 9,
      "outputs": []
    }
  ]
}