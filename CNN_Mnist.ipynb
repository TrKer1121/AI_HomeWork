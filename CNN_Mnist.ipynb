{
  "nbformat": 4,
  "nbformat_minor": 0,
  "metadata": {
    "colab": {
      "name": "CNN_Mnist.ipynb",
      "provenance": [],
      "collapsed_sections": [],
      "include_colab_link": true
    },
    "kernelspec": {
      "name": "python3",
      "display_name": "Python 3"
    },
    "language_info": {
      "name": "python"
    },
    "accelerator": "GPU"
  },
  "cells": [
    {
      "cell_type": "markdown",
      "metadata": {
        "id": "view-in-github",
        "colab_type": "text"
      },
      "source": [
        "<a href=\"https://colab.research.google.com/github/TrKer1121/AI_HomeWork/blob/main/CNN_Mnist.ipynb\" target=\"_parent\"><img src=\"https://colab.research.google.com/assets/colab-badge.svg\" alt=\"Open In Colab\"/></a>"
      ]
    },
    {
      "cell_type": "code",
      "execution_count": null,
      "metadata": {
        "id": "gMaMa_LQZZ0J"
      },
      "outputs": [],
      "source": [
        "#Import thư viện\n",
        "from keras.layers.core.dropout import Dropout\n",
        "import numpy as np\n",
        "import tensorflow as tf\n",
        "from keras.utils import np_utils\n",
        "from keras.datasets import mnist\n",
        "from keras.models import Sequential\n",
        "from keras.layers import Dense, Dropout\n",
        "from tensorflow.keras.optimizers import RMSprop, SGD\n",
        "from tensorflow.keras.layers import Conv2D, MaxPooling2D, Flatten\n",
        "import matplotlib.pyplot as plt"
      ]
    },
    {
      "cell_type": "code",
      "source": [
        "#Chia dữ liệu\n",
        "(x_train, y_train),(x_test,y_test) = mnist.load_data()\n",
        "# for i in range(9):\n",
        "#   plt.subplot(330+1+i)\n",
        "#   plt.imshow(x_train[i])\n",
        "# plt.show()\n",
        "print('Kích thước x_train: ', x_train.shape)\n",
        "print('Kích thước y_train: ', y_train.shape)\n",
        "print('Kích thước x_test: ', x_test.shape)\n",
        "print('Kích thước y_test: ', y_test.shape)"
      ],
      "metadata": {
        "colab": {
          "base_uri": "https://localhost:8080/"
        },
        "id": "35TeDERzZm6W",
        "outputId": "b530986b-61a9-41c8-8de7-4bc7e9bbf2d9"
      },
      "execution_count": null,
      "outputs": [
        {
          "output_type": "stream",
          "name": "stdout",
          "text": [
            "Downloading data from https://storage.googleapis.com/tensorflow/tf-keras-datasets/mnist.npz\n",
            "11493376/11490434 [==============================] - 0s 0us/step\n",
            "11501568/11490434 [==============================] - 0s 0us/step\n",
            "Kích thước x_train:  (60000, 28, 28)\n",
            "Kích thước y_train:  (60000,)\n",
            "Kích thước x_test:  (10000, 28, 28)\n",
            "Kích thước y_test:  (10000,)\n"
          ]
        }
      ]
    },
    {
      "cell_type": "code",
      "source": [
        "#Chuẩn hóa dữ liệu\n",
        "x_train = x_train.astype('float32')\n",
        "x_test = x_test.astype('float32')\n",
        "\n",
        "x_train = x_train/255\n",
        "x_test = x_test/255\n",
        "\n",
        "y_train = np_utils.to_categorical(y_train,100)\n",
        "y_test = np_utils.to_categorical(y_test,100)\n",
        "\n",
        "print('Kích thước x_train: ', x_train.shape)\n",
        "print('Kích thước y_train: ', y_train.shape)\n",
        "print('Kích thước x_test: ', x_test.shape)\n",
        "print('Kích thước y_test: ', y_test.shape)"
      ],
      "metadata": {
        "colab": {
          "base_uri": "https://localhost:8080/"
        },
        "id": "OY8VcPDfZza-",
        "outputId": "b06a81db-871f-4ea7-8d51-eaecb0f9a460"
      },
      "execution_count": null,
      "outputs": [
        {
          "output_type": "stream",
          "name": "stdout",
          "text": [
            "Kích thước x_train:  (60000, 28, 28)\n",
            "Kích thước y_train:  (60000, 100)\n",
            "Kích thước x_test:  (10000, 28, 28)\n",
            "Kích thước y_test:  (10000, 100)\n"
          ]
        }
      ]
    },
    {
      "cell_type": "code",
      "source": [
        "model = Sequential()\n",
        "model.add(Conv2D(32, (3, 3), activation='relu', kernel_initializer='he_uniform', input_shape=(28, 28, 1)))\n",
        "model.add(MaxPooling2D((2, 2)))\n",
        "model.add(Flatten())\n",
        "model.add(Dense(32, activation='relu', kernel_initializer='he_uniform'))\n",
        "model.add(Dense(100, activation='softmax'))\n",
        "model.summary()"
      ],
      "metadata": {
        "colab": {
          "base_uri": "https://localhost:8080/"
        },
        "id": "9MhIEr07Z4Gu",
        "outputId": "405c6c6a-5d29-4806-fd1a-7520c994b96d"
      },
      "execution_count": null,
      "outputs": [
        {
          "output_type": "stream",
          "name": "stdout",
          "text": [
            "Model: \"sequential\"\n",
            "_________________________________________________________________\n",
            " Layer (type)                Output Shape              Param #   \n",
            "=================================================================\n",
            " conv2d (Conv2D)             (None, 26, 26, 32)        320       \n",
            "                                                                 \n",
            " max_pooling2d (MaxPooling2D  (None, 13, 13, 32)       0         \n",
            " )                                                               \n",
            "                                                                 \n",
            " flatten (Flatten)           (None, 5408)              0         \n",
            "                                                                 \n",
            " dense (Dense)               (None, 32)                173088    \n",
            "                                                                 \n",
            " dense_1 (Dense)             (None, 100)               3300      \n",
            "                                                                 \n",
            "=================================================================\n",
            "Total params: 176,708\n",
            "Trainable params: 176,708\n",
            "Non-trainable params: 0\n",
            "_________________________________________________________________\n"
          ]
        }
      ]
    },
    {
      "cell_type": "code",
      "source": [
        "# compile model\n",
        "opt = SGD(learning_rate=0.01, momentum=0.9)\n",
        "model.compile(optimizer=opt, loss='categorical_crossentropy', metrics=['accuracy'])\n",
        "from keras.callbacks import EarlyStopping\n",
        "history = model.fit(x_train, y_train, epochs=100, batch_size=32, validation_data=(x_test, y_test), \n",
        "                    verbose=1, callbacks=[EarlyStopping(monitor='val_loss',patience=50)])"
      ],
      "metadata": {
        "colab": {
          "base_uri": "https://localhost:8080/"
        },
        "id": "_wh5N_X2bHAY",
        "outputId": "e3c431e8-5169-4f2d-9b71-fb9fe8b3f722"
      },
      "execution_count": null,
      "outputs": [
        {
          "output_type": "stream",
          "name": "stdout",
          "text": [
            "Epoch 1/100\n",
            "1875/1875 [==============================] - 20s 5ms/step - loss: 0.2209 - accuracy: 0.9348 - val_loss: 0.0805 - val_accuracy: 0.9743\n",
            "Epoch 2/100\n",
            "1875/1875 [==============================] - 6s 3ms/step - loss: 0.0701 - accuracy: 0.9790 - val_loss: 0.0583 - val_accuracy: 0.9820\n",
            "Epoch 3/100\n",
            "1875/1875 [==============================] - 6s 3ms/step - loss: 0.0473 - accuracy: 0.9855 - val_loss: 0.0547 - val_accuracy: 0.9828\n",
            "Epoch 4/100\n",
            "1875/1875 [==============================] - 6s 3ms/step - loss: 0.0370 - accuracy: 0.9887 - val_loss: 0.0448 - val_accuracy: 0.9849\n",
            "Epoch 5/100\n",
            "1875/1875 [==============================] - 6s 3ms/step - loss: 0.0289 - accuracy: 0.9909 - val_loss: 0.0548 - val_accuracy: 0.9830\n",
            "Epoch 6/100\n",
            "1875/1875 [==============================] - 6s 3ms/step - loss: 0.0211 - accuracy: 0.9935 - val_loss: 0.0472 - val_accuracy: 0.9863\n",
            "Epoch 7/100\n",
            "1875/1875 [==============================] - 6s 3ms/step - loss: 0.0173 - accuracy: 0.9947 - val_loss: 0.0469 - val_accuracy: 0.9854\n",
            "Epoch 8/100\n",
            "1875/1875 [==============================] - 7s 4ms/step - loss: 0.0131 - accuracy: 0.9962 - val_loss: 0.0502 - val_accuracy: 0.9863\n",
            "Epoch 9/100\n",
            "1875/1875 [==============================] - 6s 3ms/step - loss: 0.0101 - accuracy: 0.9974 - val_loss: 0.0524 - val_accuracy: 0.9854\n",
            "Epoch 10/100\n",
            "1875/1875 [==============================] - 6s 3ms/step - loss: 0.0075 - accuracy: 0.9979 - val_loss: 0.0500 - val_accuracy: 0.9856\n",
            "Epoch 11/100\n",
            "1875/1875 [==============================] - 6s 3ms/step - loss: 0.0057 - accuracy: 0.9986 - val_loss: 0.0518 - val_accuracy: 0.9855\n",
            "Epoch 12/100\n",
            "1875/1875 [==============================] - 6s 3ms/step - loss: 0.0052 - accuracy: 0.9985 - val_loss: 0.0546 - val_accuracy: 0.9863\n",
            "Epoch 13/100\n",
            "1875/1875 [==============================] - 6s 3ms/step - loss: 0.0032 - accuracy: 0.9995 - val_loss: 0.0534 - val_accuracy: 0.9869\n",
            "Epoch 14/100\n",
            "1875/1875 [==============================] - 6s 3ms/step - loss: 0.0024 - accuracy: 0.9997 - val_loss: 0.0534 - val_accuracy: 0.9877\n",
            "Epoch 15/100\n",
            "1875/1875 [==============================] - 6s 3ms/step - loss: 0.0016 - accuracy: 0.9998 - val_loss: 0.0545 - val_accuracy: 0.9877\n",
            "Epoch 16/100\n",
            "1875/1875 [==============================] - 6s 3ms/step - loss: 0.0011 - accuracy: 0.9999 - val_loss: 0.0570 - val_accuracy: 0.9870\n",
            "Epoch 17/100\n",
            "1875/1875 [==============================] - 6s 3ms/step - loss: 7.2742e-04 - accuracy: 1.0000 - val_loss: 0.0573 - val_accuracy: 0.9867\n",
            "Epoch 18/100\n",
            "1875/1875 [==============================] - 7s 4ms/step - loss: 5.9349e-04 - accuracy: 1.0000 - val_loss: 0.0566 - val_accuracy: 0.9875\n",
            "Epoch 19/100\n",
            "1875/1875 [==============================] - 6s 3ms/step - loss: 5.0929e-04 - accuracy: 1.0000 - val_loss: 0.0577 - val_accuracy: 0.9874\n",
            "Epoch 20/100\n",
            "1875/1875 [==============================] - 6s 3ms/step - loss: 4.3745e-04 - accuracy: 1.0000 - val_loss: 0.0586 - val_accuracy: 0.9879\n",
            "Epoch 21/100\n",
            "1875/1875 [==============================] - 6s 3ms/step - loss: 3.9355e-04 - accuracy: 1.0000 - val_loss: 0.0589 - val_accuracy: 0.9875\n",
            "Epoch 22/100\n",
            "1875/1875 [==============================] - 6s 3ms/step - loss: 3.6056e-04 - accuracy: 1.0000 - val_loss: 0.0595 - val_accuracy: 0.9876\n",
            "Epoch 23/100\n",
            "1875/1875 [==============================] - 6s 3ms/step - loss: 3.3488e-04 - accuracy: 1.0000 - val_loss: 0.0603 - val_accuracy: 0.9872\n",
            "Epoch 24/100\n",
            "1875/1875 [==============================] - 6s 3ms/step - loss: 3.0486e-04 - accuracy: 1.0000 - val_loss: 0.0604 - val_accuracy: 0.9875\n",
            "Epoch 25/100\n",
            "1875/1875 [==============================] - 6s 3ms/step - loss: 2.8556e-04 - accuracy: 1.0000 - val_loss: 0.0611 - val_accuracy: 0.9873\n",
            "Epoch 26/100\n",
            "1875/1875 [==============================] - 6s 3ms/step - loss: 2.6495e-04 - accuracy: 1.0000 - val_loss: 0.0619 - val_accuracy: 0.9870\n",
            "Epoch 27/100\n",
            "1875/1875 [==============================] - 6s 3ms/step - loss: 2.4969e-04 - accuracy: 1.0000 - val_loss: 0.0618 - val_accuracy: 0.9874\n",
            "Epoch 28/100\n",
            "1875/1875 [==============================] - 6s 3ms/step - loss: 2.3686e-04 - accuracy: 1.0000 - val_loss: 0.0622 - val_accuracy: 0.9873\n",
            "Epoch 29/100\n",
            "1875/1875 [==============================] - 6s 3ms/step - loss: 2.2451e-04 - accuracy: 1.0000 - val_loss: 0.0631 - val_accuracy: 0.9876\n",
            "Epoch 30/100\n",
            "1875/1875 [==============================] - 6s 3ms/step - loss: 2.1396e-04 - accuracy: 1.0000 - val_loss: 0.0634 - val_accuracy: 0.9873\n",
            "Epoch 31/100\n",
            "1875/1875 [==============================] - 6s 3ms/step - loss: 2.0168e-04 - accuracy: 1.0000 - val_loss: 0.0634 - val_accuracy: 0.9873\n",
            "Epoch 32/100\n",
            "1875/1875 [==============================] - 6s 3ms/step - loss: 1.9238e-04 - accuracy: 1.0000 - val_loss: 0.0644 - val_accuracy: 0.9872\n",
            "Epoch 33/100\n",
            "1875/1875 [==============================] - 6s 3ms/step - loss: 1.8358e-04 - accuracy: 1.0000 - val_loss: 0.0647 - val_accuracy: 0.9868\n",
            "Epoch 34/100\n",
            "1875/1875 [==============================] - 6s 3ms/step - loss: 1.7586e-04 - accuracy: 1.0000 - val_loss: 0.0649 - val_accuracy: 0.9871\n",
            "Epoch 35/100\n",
            "1875/1875 [==============================] - 6s 3ms/step - loss: 1.6846e-04 - accuracy: 1.0000 - val_loss: 0.0650 - val_accuracy: 0.9874\n",
            "Epoch 36/100\n",
            "1875/1875 [==============================] - 6s 3ms/step - loss: 1.6249e-04 - accuracy: 1.0000 - val_loss: 0.0653 - val_accuracy: 0.9872\n",
            "Epoch 37/100\n",
            "1875/1875 [==============================] - 6s 3ms/step - loss: 1.5575e-04 - accuracy: 1.0000 - val_loss: 0.0655 - val_accuracy: 0.9872\n",
            "Epoch 38/100\n",
            "1875/1875 [==============================] - 6s 3ms/step - loss: 1.5002e-04 - accuracy: 1.0000 - val_loss: 0.0660 - val_accuracy: 0.9873\n",
            "Epoch 39/100\n",
            "1875/1875 [==============================] - 6s 3ms/step - loss: 1.4429e-04 - accuracy: 1.0000 - val_loss: 0.0663 - val_accuracy: 0.9869\n",
            "Epoch 40/100\n",
            "1875/1875 [==============================] - 6s 3ms/step - loss: 1.3970e-04 - accuracy: 1.0000 - val_loss: 0.0668 - val_accuracy: 0.9870\n",
            "Epoch 41/100\n",
            "1875/1875 [==============================] - 6s 3ms/step - loss: 1.3501e-04 - accuracy: 1.0000 - val_loss: 0.0666 - val_accuracy: 0.9872\n",
            "Epoch 42/100\n",
            "1875/1875 [==============================] - 6s 3ms/step - loss: 1.2987e-04 - accuracy: 1.0000 - val_loss: 0.0670 - val_accuracy: 0.9871\n",
            "Epoch 43/100\n",
            "1875/1875 [==============================] - 6s 3ms/step - loss: 1.2630e-04 - accuracy: 1.0000 - val_loss: 0.0670 - val_accuracy: 0.9872\n",
            "Epoch 44/100\n",
            "1875/1875 [==============================] - 6s 3ms/step - loss: 1.2200e-04 - accuracy: 1.0000 - val_loss: 0.0673 - val_accuracy: 0.9873\n",
            "Epoch 45/100\n",
            "1875/1875 [==============================] - 6s 3ms/step - loss: 1.1872e-04 - accuracy: 1.0000 - val_loss: 0.0675 - val_accuracy: 0.9870\n",
            "Epoch 46/100\n",
            "1875/1875 [==============================] - 6s 3ms/step - loss: 1.1481e-04 - accuracy: 1.0000 - val_loss: 0.0676 - val_accuracy: 0.9873\n",
            "Epoch 47/100\n",
            "1875/1875 [==============================] - 6s 3ms/step - loss: 1.1159e-04 - accuracy: 1.0000 - val_loss: 0.0681 - val_accuracy: 0.9869\n",
            "Epoch 48/100\n",
            "1875/1875 [==============================] - 6s 3ms/step - loss: 1.0849e-04 - accuracy: 1.0000 - val_loss: 0.0685 - val_accuracy: 0.9870\n",
            "Epoch 49/100\n",
            "1875/1875 [==============================] - 6s 3ms/step - loss: 1.0566e-04 - accuracy: 1.0000 - val_loss: 0.0686 - val_accuracy: 0.9870\n",
            "Epoch 50/100\n",
            "1875/1875 [==============================] - 6s 3ms/step - loss: 1.0271e-04 - accuracy: 1.0000 - val_loss: 0.0689 - val_accuracy: 0.9870\n",
            "Epoch 51/100\n",
            "1875/1875 [==============================] - 6s 3ms/step - loss: 9.9530e-05 - accuracy: 1.0000 - val_loss: 0.0689 - val_accuracy: 0.9873\n",
            "Epoch 52/100\n",
            "1875/1875 [==============================] - 6s 3ms/step - loss: 9.7414e-05 - accuracy: 1.0000 - val_loss: 0.0692 - val_accuracy: 0.9870\n",
            "Epoch 53/100\n",
            "1875/1875 [==============================] - 6s 3ms/step - loss: 9.4038e-05 - accuracy: 1.0000 - val_loss: 0.0694 - val_accuracy: 0.9872\n",
            "Epoch 54/100\n",
            "1875/1875 [==============================] - 6s 3ms/step - loss: 9.2916e-05 - accuracy: 1.0000 - val_loss: 0.0695 - val_accuracy: 0.9869\n"
          ]
        }
      ]
    },
    {
      "cell_type": "code",
      "source": [
        "model.save('CNN_Mnist.h5')"
      ],
      "metadata": {
        "id": "iFc29MfWeyil"
      },
      "execution_count": null,
      "outputs": []
    },
    {
      "cell_type": "code",
      "source": [
        "score = model.evaluate(x_test,y_test,verbose=0)\n",
        "print('Sai số kiểm tra là: ',score[0])\n",
        "print('Độ chính xác kiểm tra là: ',score[1])\n",
        "plt.plot(history.history['accuracy'])\n",
        "plt.plot(history.history['val_accuracy'])\n",
        "plt.ylabel('accuracy')\n",
        "plt.xlabel('epochs')\n",
        "plt.legend(['train','Validation'])\n",
        "plt.show()"
      ],
      "metadata": {
        "colab": {
          "base_uri": "https://localhost:8080/",
          "height": 314
        },
        "id": "j23E0Ndeiox9",
        "outputId": "708ac200-8c03-4e8d-d705-61a9cc9df041"
      },
      "execution_count": null,
      "outputs": [
        {
          "output_type": "stream",
          "name": "stdout",
          "text": [
            "Sai số kiểm tra là:  0.06948907673358917\n",
            "Độ chính xác kiểm tra là:  0.9868999719619751\n"
          ]
        },
        {
          "output_type": "display_data",
          "data": {
            "text/plain": [
              "<Figure size 432x288 with 1 Axes>"
            ],
            "image/png": "[encoded data removed]"
          },
          "metadata": {
            "needs_background": "light"
          }
        }
      ]
    }
  ]
}