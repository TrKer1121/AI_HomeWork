{
  "nbformat": 4,
  "nbformat_minor": 0,
  "metadata": {
    "colab": {
      "name": "CNN_CIFAR100.ipynb",
      "provenance": [],
      "collapsed_sections": [],
      "authorship_tag": "ABX9TyOdkyYI6A4tU3pvsOCUNvMC",
      "include_colab_link": true
    },
    "kernelspec": {
      "name": "python3",
      "display_name": "Python 3"
    },
    "language_info": {
      "name": "python"
    },
    "accelerator": "GPU"
  },
  "cells": [
    {
      "cell_type": "markdown",
      "metadata": {
        "id": "view-in-github",
        "colab_type": "text"
      },
      "source": [
        "<a href=\"https://colab.research.google.com/github/TrKer1121/AI_HomeWork/blob/main/CNN_CIFAR100.ipynb\" target=\"_parent\"><img src=\"https://colab.research.google.com/assets/colab-badge.svg\" alt=\"Open In Colab\"/></a>"
      ]
    },
    {
      "cell_type": "code",
      "execution_count": 2,
      "metadata": {
        "id": "Ngg_CFk0x4Oo"
      },
      "outputs": [],
      "source": [
        "#import các thư viện\n",
        "import matplotlib.pyplot as plt\n",
        "import numpy as np\n",
        "import keras\n",
        "import tensorflow as tf\n",
        "import pandas as pd\n",
        "import cv2\n",
        "import pickle\n",
        "\n",
        "from keras.models import Sequential\n",
        "from keras.layers import Dense, Activation, Dropout, BatchNormalization,  Dropout, Flatten, Conv2D, MaxPooling2D\n",
        "from sklearn.linear_model import Perceptron\n",
        "from keras.utils import np_utils\n",
        "from sklearn.model_selection import train_test_split\n",
        "from sklearn.metrics import accuracy_score\n",
        "from sklearn.preprocessing import StandardScaler\n",
        "from tensorflow.keras.optimizers import Adam\n",
        "from sklearn.utils import shuffle\n",
        "from keras.preprocessing.image import load_img,img_to_array\n",
        "from tensorflow.keras.optimizers import SGD\n",
        "from tensorflow.keras.utils import to_categorical\n",
        "from tensorflow.keras import datasets\n",
        "from keras.datasets import mnist, fashion_mnist, cifar10, cifar100"
      ]
    },
    {
      "cell_type": "code",
      "source": [
        "#Xử lý data\n",
        "(x_train,y_train),(x_test,y_test) = datasets.cifar100.load_data() #lay du lieu\n",
        "x_train = x_train.astype('float32')\n",
        "x_test = x_test.astype('float32')\n",
        "x_train/=255.0\n",
        "x_test/=255.0\n",
        "y_train = np_utils.to_categorical(y_train,100)\n",
        "y_test = np_utils.to_categorical(y_test,100)\n",
        "y_train.shape"
      ],
      "metadata": {
        "colab": {
          "base_uri": "https://localhost:8080/"
        },
        "id": "n67aGdg6yE0E",
        "outputId": "182ec132-fa36-4ab9-ca89-4d25958f7ad7"
      },
      "execution_count": 3,
      "outputs": [
        {
          "output_type": "stream",
          "name": "stdout",
          "text": [
            "Downloading data from https://www.cs.toronto.edu/~kriz/cifar-100-python.tar.gz\n",
            "169009152/169001437 [==============================] - 2s 0us/step\n",
            "169017344/169001437 [==============================] - 2s 0us/step\n"
          ]
        },
        {
          "output_type": "execute_result",
          "data": {
            "text/plain": [
              "(50000, 100)"
            ]
          },
          "metadata": {},
          "execution_count": 3
        }
      ]
    },
    {
      "cell_type": "code",
      "source": [
        "#Tạo model\n",
        "model = Sequential()\n",
        "model.add(Conv2D(32,(3,3), activation = 'relu', kernel_initializer = 'he_uniform', padding = 'same', input_shape = (32,32,3)))\n",
        "model.add(Conv2D(32,(3,3), activation = 'relu', kernel_initializer = 'he_uniform', padding = 'same'))\n",
        "model.add(MaxPooling2D((2,2)))\n",
        "\n",
        "model.add(Conv2D(128,(3,3), activation = 'relu', kernel_initializer = 'he_uniform', padding = 'same'))\n",
        "model.add(MaxPooling2D((2,2)))\n",
        "\n",
        "model.add(Conv2D(128,(3,3), activation = 'relu', kernel_initializer = 'he_uniform', padding = 'same'))\n",
        "model.add(MaxPooling2D((2,2)))\n",
        "model.add(Conv2D(64,(3,3), activation = 'relu', kernel_initializer = 'he_uniform', padding = 'same'))\n",
        "model.add(MaxPooling2D((2,2)))\n",
        "model.add(Conv2D(32,(3,3), activation = 'relu', kernel_initializer = 'he_uniform', padding = 'same'))\n",
        "model.add(MaxPooling2D((2,2)))\n",
        "\n",
        "\n",
        "model.add(Flatten())\n",
        "model.add(Dense(32,activation = 'relu',kernel_initializer = 'he_uniform'))\n",
        "model.add(Dense(100,activation = 'softmax'))\n",
        "model.summary()"
      ],
      "metadata": {
        "colab": {
          "base_uri": "https://localhost:8080/"
        },
        "id": "FntHlaV0yMJG",
        "outputId": "f4284b86-e326-460d-8bc6-2c20372e4962"
      },
      "execution_count": 4,
      "outputs": [
        {
          "output_type": "stream",
          "name": "stdout",
          "text": [
            "Model: \"sequential\"\n",
            "_________________________________________________________________\n",
            " Layer (type)                Output Shape              Param #   \n",
            "=================================================================\n",
            " conv2d (Conv2D)             (None, 32, 32, 32)        896       \n",
            "                                                                 \n",
            " conv2d_1 (Conv2D)           (None, 32, 32, 32)        9248      \n",
            "                                                                 \n",
            " max_pooling2d (MaxPooling2D  (None, 16, 16, 32)       0         \n",
            " )                                                               \n",
            "                                                                 \n",
            " conv2d_2 (Conv2D)           (None, 16, 16, 128)       36992     \n",
            "                                                                 \n",
            " max_pooling2d_1 (MaxPooling  (None, 8, 8, 128)        0         \n",
            " 2D)                                                             \n",
            "                                                                 \n",
            " conv2d_3 (Conv2D)           (None, 8, 8, 128)         147584    \n",
            "                                                                 \n",
            " max_pooling2d_2 (MaxPooling  (None, 4, 4, 128)        0         \n",
            " 2D)                                                             \n",
            "                                                                 \n",
            " conv2d_4 (Conv2D)           (None, 4, 4, 64)          73792     \n",
            "                                                                 \n",
            " max_pooling2d_3 (MaxPooling  (None, 2, 2, 64)         0         \n",
            " 2D)                                                             \n",
            "                                                                 \n",
            " conv2d_5 (Conv2D)           (None, 2, 2, 32)          18464     \n",
            "                                                                 \n",
            " max_pooling2d_4 (MaxPooling  (None, 1, 1, 32)         0         \n",
            " 2D)                                                             \n",
            "                                                                 \n",
            " flatten (Flatten)           (None, 32)                0         \n",
            "                                                                 \n",
            " dense (Dense)               (None, 32)                1056      \n",
            "                                                                 \n",
            " dense_1 (Dense)             (None, 100)               3300      \n",
            "                                                                 \n",
            "=================================================================\n",
            "Total params: 291,332\n",
            "Trainable params: 291,332\n",
            "Non-trainable params: 0\n",
            "_________________________________________________________________\n"
          ]
        }
      ]
    },
    {
      "cell_type": "code",
      "source": [
        "#Training\n",
        "opt = SGD(lr = 0.01, momentum = 0.9)\n",
        "model.compile(optimizer=opt,loss = 'categorical_crossentropy',metrics=['accuracy'])\n",
        "history = model.fit(x_train,y_train,epochs= 50,batch_size=64,validation_data=(x_test,y_test),verbose=1)"
      ],
      "metadata": {
        "colab": {
          "base_uri": "https://localhost:8080/"
        },
        "id": "7YzgMZQbyP22",
        "outputId": "e4866369-7fe7-4377-8bea-77b0a2966586"
      },
      "execution_count": 5,
      "outputs": [
        {
          "output_type": "stream",
          "name": "stderr",
          "text": [
            "/usr/local/lib/python3.7/dist-packages/keras/optimizer_v2/gradient_descent.py:102: UserWarning: The `lr` argument is deprecated, use `learning_rate` instead.\n",
            "  super(SGD, self).__init__(name, **kwargs)\n"
          ]
        },
        {
          "output_type": "stream",
          "name": "stdout",
          "text": [
            "Epoch 1/50\n",
            "782/782 [==============================] - 19s 9ms/step - loss: 4.3578 - accuracy: 0.0357 - val_loss: 4.0221 - val_accuracy: 0.0698\n",
            "Epoch 2/50\n",
            "782/782 [==============================] - 6s 8ms/step - loss: 3.7950 - accuracy: 0.1088 - val_loss: 3.6382 - val_accuracy: 0.1373\n",
            "Epoch 3/50\n",
            "782/782 [==============================] - 7s 8ms/step - loss: 3.4259 - accuracy: 0.1693 - val_loss: 3.2772 - val_accuracy: 0.1951\n",
            "Epoch 4/50\n",
            "782/782 [==============================] - 6s 8ms/step - loss: 3.1327 - accuracy: 0.2183 - val_loss: 2.9905 - val_accuracy: 0.2498\n",
            "Epoch 5/50\n",
            "782/782 [==============================] - 6s 8ms/step - loss: 2.9046 - accuracy: 0.2634 - val_loss: 2.8502 - val_accuracy: 0.2790\n",
            "Epoch 6/50\n",
            "782/782 [==============================] - 7s 8ms/step - loss: 2.7063 - accuracy: 0.3004 - val_loss: 2.7472 - val_accuracy: 0.2954\n",
            "Epoch 7/50\n",
            "782/782 [==============================] - 7s 8ms/step - loss: 2.5449 - accuracy: 0.3317 - val_loss: 2.7355 - val_accuracy: 0.2954\n",
            "Epoch 8/50\n",
            "782/782 [==============================] - 7s 8ms/step - loss: 2.4147 - accuracy: 0.3625 - val_loss: 2.6574 - val_accuracy: 0.3256\n",
            "Epoch 9/50\n",
            "782/782 [==============================] - 6s 8ms/step - loss: 2.2972 - accuracy: 0.3837 - val_loss: 2.6345 - val_accuracy: 0.3363\n",
            "Epoch 10/50\n",
            "782/782 [==============================] - 7s 8ms/step - loss: 2.1885 - accuracy: 0.4071 - val_loss: 2.6499 - val_accuracy: 0.3305\n",
            "Epoch 11/50\n",
            "782/782 [==============================] - 7s 9ms/step - loss: 2.0977 - accuracy: 0.4262 - val_loss: 2.6804 - val_accuracy: 0.3315\n",
            "Epoch 12/50\n",
            "782/782 [==============================] - 7s 8ms/step - loss: 2.0260 - accuracy: 0.4408 - val_loss: 2.5072 - val_accuracy: 0.3598\n",
            "Epoch 13/50\n",
            "782/782 [==============================] - 7s 8ms/step - loss: 1.9485 - accuracy: 0.4580 - val_loss: 2.5660 - val_accuracy: 0.3534\n",
            "Epoch 14/50\n",
            "782/782 [==============================] - 7s 8ms/step - loss: 1.8730 - accuracy: 0.4760 - val_loss: 2.5649 - val_accuracy: 0.3590\n",
            "Epoch 15/50\n",
            "782/782 [==============================] - 7s 8ms/step - loss: 1.8238 - accuracy: 0.4854 - val_loss: 2.6804 - val_accuracy: 0.3460\n",
            "Epoch 16/50\n",
            "782/782 [==============================] - 7s 8ms/step - loss: 1.7783 - accuracy: 0.4931 - val_loss: 2.7584 - val_accuracy: 0.3443\n",
            "Epoch 17/50\n",
            "782/782 [==============================] - 6s 8ms/step - loss: 1.7142 - accuracy: 0.5095 - val_loss: 2.6175 - val_accuracy: 0.3501\n",
            "Epoch 18/50\n",
            "782/782 [==============================] - 6s 8ms/step - loss: 1.6821 - accuracy: 0.5190 - val_loss: 2.6239 - val_accuracy: 0.3690\n",
            "Epoch 19/50\n",
            "782/782 [==============================] - 7s 8ms/step - loss: 1.6411 - accuracy: 0.5283 - val_loss: 2.7711 - val_accuracy: 0.3686\n",
            "Epoch 20/50\n",
            "782/782 [==============================] - 6s 8ms/step - loss: 1.6233 - accuracy: 0.5314 - val_loss: 2.7770 - val_accuracy: 0.3559\n",
            "Epoch 21/50\n",
            "782/782 [==============================] - 7s 8ms/step - loss: 1.5724 - accuracy: 0.5448 - val_loss: 2.7425 - val_accuracy: 0.3652\n",
            "Epoch 22/50\n",
            "782/782 [==============================] - 7s 8ms/step - loss: 1.5453 - accuracy: 0.5482 - val_loss: 2.9965 - val_accuracy: 0.3340\n",
            "Epoch 23/50\n",
            "782/782 [==============================] - 7s 8ms/step - loss: 1.5183 - accuracy: 0.5584 - val_loss: 2.8369 - val_accuracy: 0.3614\n",
            "Epoch 24/50\n",
            "782/782 [==============================] - 7s 8ms/step - loss: 1.5043 - accuracy: 0.5615 - val_loss: 2.7879 - val_accuracy: 0.3672\n",
            "Epoch 25/50\n",
            "782/782 [==============================] - 7s 8ms/step - loss: 1.4767 - accuracy: 0.5671 - val_loss: 2.9901 - val_accuracy: 0.3463\n",
            "Epoch 26/50\n",
            "782/782 [==============================] - 7s 8ms/step - loss: 1.4711 - accuracy: 0.5707 - val_loss: 3.1481 - val_accuracy: 0.3478\n",
            "Epoch 27/50\n",
            "782/782 [==============================] - 6s 8ms/step - loss: 1.4349 - accuracy: 0.5773 - val_loss: 2.9229 - val_accuracy: 0.3429\n",
            "Epoch 28/50\n",
            "782/782 [==============================] - 7s 8ms/step - loss: 1.4083 - accuracy: 0.5851 - val_loss: 3.0176 - val_accuracy: 0.3595\n",
            "Epoch 29/50\n",
            "782/782 [==============================] - 7s 8ms/step - loss: 1.4336 - accuracy: 0.5783 - val_loss: 3.0320 - val_accuracy: 0.3451\n",
            "Epoch 30/50\n",
            "782/782 [==============================] - 7s 8ms/step - loss: 1.3895 - accuracy: 0.5899 - val_loss: 3.0304 - val_accuracy: 0.3476\n",
            "Epoch 31/50\n",
            "782/782 [==============================] - 7s 8ms/step - loss: 1.3913 - accuracy: 0.5917 - val_loss: 3.3144 - val_accuracy: 0.3342\n",
            "Epoch 32/50\n",
            "782/782 [==============================] - 7s 8ms/step - loss: 1.3611 - accuracy: 0.5971 - val_loss: 3.0192 - val_accuracy: 0.3526\n",
            "Epoch 33/50\n",
            "782/782 [==============================] - 6s 8ms/step - loss: 1.3642 - accuracy: 0.5983 - val_loss: 3.0621 - val_accuracy: 0.3409\n",
            "Epoch 34/50\n",
            "782/782 [==============================] - 7s 8ms/step - loss: 1.3196 - accuracy: 0.6090 - val_loss: 2.9911 - val_accuracy: 0.3548\n",
            "Epoch 35/50\n",
            "782/782 [==============================] - 7s 8ms/step - loss: 1.3255 - accuracy: 0.6072 - val_loss: 3.1537 - val_accuracy: 0.3493\n",
            "Epoch 36/50\n",
            "782/782 [==============================] - 7s 8ms/step - loss: 1.3341 - accuracy: 0.6062 - val_loss: 3.2905 - val_accuracy: 0.3332\n",
            "Epoch 37/50\n",
            "782/782 [==============================] - 7s 9ms/step - loss: 1.2989 - accuracy: 0.6173 - val_loss: 3.3530 - val_accuracy: 0.3404\n",
            "Epoch 38/50\n",
            "782/782 [==============================] - 7s 8ms/step - loss: 1.3058 - accuracy: 0.6140 - val_loss: 3.1327 - val_accuracy: 0.3449\n",
            "Epoch 39/50\n",
            "782/782 [==============================] - 7s 8ms/step - loss: 1.2933 - accuracy: 0.6174 - val_loss: 3.3011 - val_accuracy: 0.3373\n",
            "Epoch 40/50\n",
            "782/782 [==============================] - 7s 8ms/step - loss: 1.2797 - accuracy: 0.6197 - val_loss: 3.3108 - val_accuracy: 0.3425\n",
            "Epoch 41/50\n",
            "782/782 [==============================] - 6s 8ms/step - loss: 1.2725 - accuracy: 0.6220 - val_loss: 3.3660 - val_accuracy: 0.3432\n",
            "Epoch 42/50\n",
            "782/782 [==============================] - 6s 8ms/step - loss: 1.2762 - accuracy: 0.6227 - val_loss: 3.2870 - val_accuracy: 0.3471\n",
            "Epoch 43/50\n",
            "782/782 [==============================] - 7s 8ms/step - loss: 1.2665 - accuracy: 0.6248 - val_loss: 3.2759 - val_accuracy: 0.3378\n",
            "Epoch 44/50\n",
            "782/782 [==============================] - 7s 8ms/step - loss: 1.2749 - accuracy: 0.6225 - val_loss: 3.3350 - val_accuracy: 0.3488\n",
            "Epoch 45/50\n",
            "782/782 [==============================] - 7s 8ms/step - loss: 1.2373 - accuracy: 0.6339 - val_loss: 3.3124 - val_accuracy: 0.3414\n",
            "Epoch 46/50\n",
            "782/782 [==============================] - 7s 9ms/step - loss: 1.2489 - accuracy: 0.6326 - val_loss: 3.4316 - val_accuracy: 0.3468\n",
            "Epoch 47/50\n",
            "782/782 [==============================] - 7s 8ms/step - loss: 1.2173 - accuracy: 0.6405 - val_loss: 3.6279 - val_accuracy: 0.3370\n",
            "Epoch 48/50\n",
            "782/782 [==============================] - 7s 9ms/step - loss: 1.2329 - accuracy: 0.6339 - val_loss: 3.4235 - val_accuracy: 0.3367\n",
            "Epoch 49/50\n",
            "782/782 [==============================] - 7s 8ms/step - loss: 1.2279 - accuracy: 0.6369 - val_loss: 3.4074 - val_accuracy: 0.3343\n",
            "Epoch 50/50\n",
            "782/782 [==============================] - 7s 9ms/step - loss: 1.2282 - accuracy: 0.6357 - val_loss: 3.5305 - val_accuracy: 0.3395\n"
          ]
        }
      ]
    },
    {
      "cell_type": "code",
      "source": [
        "#vẽ đồ thị\n",
        "plt.plot(history.history['accuracy'])\n",
        "plt.plot(history.history['val_accuracy'])\n",
        "plt.title('Model accuracy - MNIST')\n",
        "plt.ylabel('Accuracy')\n",
        "plt.xlabel('Epoch')\n",
        "plt.legend(['Train','Validation'],loc='upper_left')\n",
        "plt.show()"
      ],
      "metadata": {
        "colab": {
          "base_uri": "https://localhost:8080/",
          "height": 573
        },
        "id": "u1VmxuWBBwni",
        "outputId": "e8d15923-0613-4071-cc5f-72dd3b898a11"
      },
      "execution_count": 6,
      "outputs": [
        {
          "output_type": "stream",
          "name": "stderr",
          "text": [
            "/usr/local/lib/python3.7/dist-packages/ipykernel_launcher.py:6: MatplotlibDeprecationWarning: Unrecognized location 'upper_left'. Falling back on 'best'; valid locations are\n",
            "\tbest\n",
            "\tupper right\n",
            "\tupper left\n",
            "\tlower left\n",
            "\tlower right\n",
            "\tright\n",
            "\tcenter left\n",
            "\tcenter right\n",
            "\tlower center\n",
            "\tupper center\n",
            "\tcenter\n",
            "This will raise an exception in 3.3.\n",
            "  \n"
          ]
        },
        {
          "output_type": "display_data",
          "data": {
            "text/plain": [
              "<Figure size 432x288 with 1 Axes>"
            ],
            "image/png": "[encoded data removed]"
          },
          "metadata": {
            "needs_background": "light"
          }
        }
      ]
    }
  ]
}